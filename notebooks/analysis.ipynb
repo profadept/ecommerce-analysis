{
 "cells": [
  {
   "cell_type": "markdown",
   "id": "fd18947d-5770-4dad-a83d-e99abf904c9b",
   "metadata": {},
   "source": [
    "# E-commerce Shopping Behavior Analysis\n",
    "\n",
    "**Goal:** Practice Pandas data manipulation and Seaborn/Matplotlib visualization to understand customer habits."
   ]
  },
  {
   "cell_type": "markdown",
   "id": "546c6f4b-e122-4fb9-be65-3f27d2349888",
   "metadata": {},
   "source": [
    "### 1. Imports\n",
    "\n",
    "Import necessary libraries for data manipulation (Pandas, NumPy), visualization (Matplotlib, Seaborn), and file path handling (Pathlib)."
   ]
  },
  {
   "cell_type": "code",
   "execution_count": 2,
   "id": "9ce0a6e9-5170-499b-86fc-6cf5f884690e",
   "metadata": {},
   "outputs": [],
   "source": [
    "import pandas as pd\n",
    "import numpy as np\n",
    "import seaborn as sns\n",
    "import matplotlib.pyplot as plt\n",
    "from pathlib import Path\n",
    "from IPython.display import display, Markdown"
   ]
  },
  {
   "cell_type": "markdown",
   "id": "9638c2c3-2935-46cc-b21c-c195903548a7",
   "metadata": {},
   "source": [
    "### 2. Plotting Configuration\n",
    "\n",
    "Set global styles for consistency across all visualizations. We'll use Seaborn's `whitegrid` style and define a default figure size using Matplotlib's `rcParams` (rc)."
   ]
  },
  {
   "cell_type": "code",
   "execution_count": 3,
   "id": "327203cb-1b46-45f5-b234-5906b8d5d518",
   "metadata": {},
   "outputs": [],
   "source": [
    "# Set global visual preferences for plots\n",
    "sns.set_style('whitegrid')\n",
    "# Use plt.rc to configure runtime settings - set default figure size\n",
    "plt.rc('figure', figsize=(10, 6))"
   ]
  },
  {
   "cell_type": "markdown",
   "id": "5f513f0c-6cc2-4cab-87ab-35dc9690cb0f",
   "metadata": {},
   "source": [
    "### 3. Define Project Paths\n",
    "\n",
    "Establish robust, relative file paths using `pathlib.Path` to ensure the notebook can correctly locate the data directory, regardless of where the project is located on the filesystem."
   ]
  },
  {
   "cell_type": "code",
   "execution_count": 14,
   "id": "1a7b12c4-3df4-441b-b0de-f72819437a3f",
   "metadata": {},
   "outputs": [
    {
     "name": "stdout",
     "output_type": "stream",
     "text": [
      "Project Root: /home/prof-adept/Shared/Alpha/Programming/Python/Data Science Projects/ecommerce-analysis\n",
      "Data Directory: /home/prof-adept/Shared/Alpha/Programming/Python/Data Science Projects/ecommerce-analysis/data\n",
      "Figures Directory: /home/prof-adept/Shared/Alpha/Programming/Python/Data Science Projects/ecommerce-analysis/figures\n"
     ]
    }
   ],
   "source": [
    "# --- Define Paths Robustly ---\n",
    "notebook_dir = Path.cwd()\n",
    "project_root = notebook_dir.parent\n",
    "data_dir = project_root / 'data'\n",
    "figures_dir = project_root / 'figures'\n",
    "\n",
    "print(f\"Project Root: {project_root}\")\n",
    "print(f\"Data Directory: {data_dir}\")\n",
    "print(f\"Figures Directory: {figures_dir}\")"
   ]
  },
  {
   "cell_type": "markdown",
   "id": "9fe401a5-d572-4265-8a19-65aa212e0f8a",
   "metadata": {},
   "source": [
    "### 4. Load Data Dynamically\n",
    "\n",
    "The following cell loads the primary dataset. It uses `pathlib.glob` to automatically find the correct `.csv` file within the `/data/` directory, making the notebook robust to potential filename changes in future dataset versions. It also includes error handling for cases where the CSV file is missing or multiple CSVs are present."
   ]
  },
  {
   "cell_type": "code",
   "execution_count": 5,
   "id": "c85ae24a-831e-40ec-88b8-66b677694c09",
   "metadata": {},
   "outputs": [
    {
     "name": "stdout",
     "output_type": "stream",
     "text": [
      "Found CSV file: shopping_behavior_updated.csv\n",
      "Loading data from: /home/prof-adept/Shared/Alpha/Programming/Python/Data Science Projects/ecommerce-analysis/data/shopping_behavior_updated.csv\n",
      "✅ Data loaded successfully!\n"
     ]
    },
    {
     "data": {
      "text/html": [
       "<div>\n",
       "<style scoped>\n",
       "    .dataframe tbody tr th:only-of-type {\n",
       "        vertical-align: middle;\n",
       "    }\n",
       "\n",
       "    .dataframe tbody tr th {\n",
       "        vertical-align: top;\n",
       "    }\n",
       "\n",
       "    .dataframe thead th {\n",
       "        text-align: right;\n",
       "    }\n",
       "</style>\n",
       "<table border=\"1\" class=\"dataframe\">\n",
       "  <thead>\n",
       "    <tr style=\"text-align: right;\">\n",
       "      <th></th>\n",
       "      <th>Customer ID</th>\n",
       "      <th>Age</th>\n",
       "      <th>Gender</th>\n",
       "      <th>Item Purchased</th>\n",
       "      <th>Category</th>\n",
       "      <th>Purchase Amount (USD)</th>\n",
       "      <th>Location</th>\n",
       "      <th>Size</th>\n",
       "      <th>Color</th>\n",
       "      <th>Season</th>\n",
       "      <th>Review Rating</th>\n",
       "      <th>Subscription Status</th>\n",
       "      <th>Shipping Type</th>\n",
       "      <th>Discount Applied</th>\n",
       "      <th>Promo Code Used</th>\n",
       "      <th>Previous Purchases</th>\n",
       "      <th>Payment Method</th>\n",
       "      <th>Frequency of Purchases</th>\n",
       "    </tr>\n",
       "  </thead>\n",
       "  <tbody>\n",
       "    <tr>\n",
       "      <th>0</th>\n",
       "      <td>1</td>\n",
       "      <td>55</td>\n",
       "      <td>Male</td>\n",
       "      <td>Blouse</td>\n",
       "      <td>Clothing</td>\n",
       "      <td>53</td>\n",
       "      <td>Kentucky</td>\n",
       "      <td>L</td>\n",
       "      <td>Gray</td>\n",
       "      <td>Winter</td>\n",
       "      <td>3.1</td>\n",
       "      <td>Yes</td>\n",
       "      <td>Express</td>\n",
       "      <td>Yes</td>\n",
       "      <td>Yes</td>\n",
       "      <td>14</td>\n",
       "      <td>Venmo</td>\n",
       "      <td>Fortnightly</td>\n",
       "    </tr>\n",
       "    <tr>\n",
       "      <th>1</th>\n",
       "      <td>2</td>\n",
       "      <td>19</td>\n",
       "      <td>Male</td>\n",
       "      <td>Sweater</td>\n",
       "      <td>Clothing</td>\n",
       "      <td>64</td>\n",
       "      <td>Maine</td>\n",
       "      <td>L</td>\n",
       "      <td>Maroon</td>\n",
       "      <td>Winter</td>\n",
       "      <td>3.1</td>\n",
       "      <td>Yes</td>\n",
       "      <td>Express</td>\n",
       "      <td>Yes</td>\n",
       "      <td>Yes</td>\n",
       "      <td>2</td>\n",
       "      <td>Cash</td>\n",
       "      <td>Fortnightly</td>\n",
       "    </tr>\n",
       "    <tr>\n",
       "      <th>2</th>\n",
       "      <td>3</td>\n",
       "      <td>50</td>\n",
       "      <td>Male</td>\n",
       "      <td>Jeans</td>\n",
       "      <td>Clothing</td>\n",
       "      <td>73</td>\n",
       "      <td>Massachusetts</td>\n",
       "      <td>S</td>\n",
       "      <td>Maroon</td>\n",
       "      <td>Spring</td>\n",
       "      <td>3.1</td>\n",
       "      <td>Yes</td>\n",
       "      <td>Free Shipping</td>\n",
       "      <td>Yes</td>\n",
       "      <td>Yes</td>\n",
       "      <td>23</td>\n",
       "      <td>Credit Card</td>\n",
       "      <td>Weekly</td>\n",
       "    </tr>\n",
       "    <tr>\n",
       "      <th>3</th>\n",
       "      <td>4</td>\n",
       "      <td>21</td>\n",
       "      <td>Male</td>\n",
       "      <td>Sandals</td>\n",
       "      <td>Footwear</td>\n",
       "      <td>90</td>\n",
       "      <td>Rhode Island</td>\n",
       "      <td>M</td>\n",
       "      <td>Maroon</td>\n",
       "      <td>Spring</td>\n",
       "      <td>3.5</td>\n",
       "      <td>Yes</td>\n",
       "      <td>Next Day Air</td>\n",
       "      <td>Yes</td>\n",
       "      <td>Yes</td>\n",
       "      <td>49</td>\n",
       "      <td>PayPal</td>\n",
       "      <td>Weekly</td>\n",
       "    </tr>\n",
       "    <tr>\n",
       "      <th>4</th>\n",
       "      <td>5</td>\n",
       "      <td>45</td>\n",
       "      <td>Male</td>\n",
       "      <td>Blouse</td>\n",
       "      <td>Clothing</td>\n",
       "      <td>49</td>\n",
       "      <td>Oregon</td>\n",
       "      <td>M</td>\n",
       "      <td>Turquoise</td>\n",
       "      <td>Spring</td>\n",
       "      <td>2.7</td>\n",
       "      <td>Yes</td>\n",
       "      <td>Free Shipping</td>\n",
       "      <td>Yes</td>\n",
       "      <td>Yes</td>\n",
       "      <td>31</td>\n",
       "      <td>PayPal</td>\n",
       "      <td>Annually</td>\n",
       "    </tr>\n",
       "  </tbody>\n",
       "</table>\n",
       "</div>"
      ],
      "text/plain": [
       "   Customer ID  Age Gender Item Purchased  Category  Purchase Amount (USD)  \\\n",
       "0            1   55   Male         Blouse  Clothing                     53   \n",
       "1            2   19   Male        Sweater  Clothing                     64   \n",
       "2            3   50   Male          Jeans  Clothing                     73   \n",
       "3            4   21   Male        Sandals  Footwear                     90   \n",
       "4            5   45   Male         Blouse  Clothing                     49   \n",
       "\n",
       "        Location Size      Color  Season  Review Rating Subscription Status  \\\n",
       "0       Kentucky    L       Gray  Winter            3.1                 Yes   \n",
       "1          Maine    L     Maroon  Winter            3.1                 Yes   \n",
       "2  Massachusetts    S     Maroon  Spring            3.1                 Yes   \n",
       "3   Rhode Island    M     Maroon  Spring            3.5                 Yes   \n",
       "4         Oregon    M  Turquoise  Spring            2.7                 Yes   \n",
       "\n",
       "   Shipping Type Discount Applied Promo Code Used  Previous Purchases  \\\n",
       "0        Express              Yes             Yes                  14   \n",
       "1        Express              Yes             Yes                   2   \n",
       "2  Free Shipping              Yes             Yes                  23   \n",
       "3   Next Day Air              Yes             Yes                  49   \n",
       "4  Free Shipping              Yes             Yes                  31   \n",
       "\n",
       "  Payment Method Frequency of Purchases  \n",
       "0          Venmo            Fortnightly  \n",
       "1           Cash            Fortnightly  \n",
       "2    Credit Card                 Weekly  \n",
       "3         PayPal                 Weekly  \n",
       "4         PayPal               Annually  "
      ]
     },
     "metadata": {},
     "output_type": "display_data"
    }
   ],
   "source": [
    "csv_file_path = None\n",
    "df = None # Initialize df to None\n",
    "\n",
    "try:\n",
    "    # Use glob to find all files ending in .csv (case-insensitive) in the data directory\n",
    "    csv_files = list(data_dir.glob('*.csv')) + list(data_dir.glob('*.CSV')) \n",
    "    \n",
    "    if not csv_files:\n",
    "        print(f\"❌ Error: No CSV file found in the directory: {data_dir}\")\n",
    "        print(\"Please ensure you have downloaded the dataset CSV and placed it there.\")\n",
    "    elif len(csv_files) > 1:\n",
    "        print(f\"⚠️ Warning: Multiple CSV files found in {data_dir}. Using the first one found:\")\n",
    "        print([f.name for f in csv_files])\n",
    "        csv_file_path = csv_files[0] # Default to the first one\n",
    "    else:\n",
    "        # Exactly one CSV file found\n",
    "        csv_file_path = csv_files[0]\n",
    "        print(f\"Found CSV file: {csv_file_path.name}\")\n",
    "\n",
    "    # Proceed to load if a path was determined\n",
    "    if csv_file_path:\n",
    "        print(f\"Loading data from: {csv_file_path}\")\n",
    "        df = pd.read_csv(csv_file_path)\n",
    "        print(\"✅ Data loaded successfully!\")\n",
    "        display(df.head())\n",
    "\n",
    "except Exception as e:\n",
    "    print(f\"❌ An unexpected error occurred while finding or loading the data: {e}\")\n",
    "\n",
    "# Optional: Check if df was loaded successfully before proceeding\n",
    "if df is None:\n",
    "     print(\"\\nStopping analysis because data failed to load.\")\n",
    "     # You might want to stop execution here in a real script, \n",
    "     # or just be aware that df is None in the notebook."
   ]
  },
  {
   "cell_type": "markdown",
   "id": "806a85f0-585f-4ede-890f-ee7e106d8f29",
   "metadata": {},
   "source": [
    "### 5. Initial Data Inspection"
   ]
  },
  {
   "cell_type": "code",
   "execution_count": 6,
   "id": "87368584-13ec-44e0-a0fe-2635c9c8315c",
   "metadata": {},
   "outputs": [
    {
     "name": "stdout",
     "output_type": "stream",
     "text": [
      "--- Data Info ---\n",
      "<class 'pandas.core.frame.DataFrame'>\n",
      "RangeIndex: 3900 entries, 0 to 3899\n",
      "Data columns (total 18 columns):\n",
      " #   Column                  Non-Null Count  Dtype  \n",
      "---  ------                  --------------  -----  \n",
      " 0   Customer ID             3900 non-null   int64  \n",
      " 1   Age                     3900 non-null   int64  \n",
      " 2   Gender                  3900 non-null   object \n",
      " 3   Item Purchased          3900 non-null   object \n",
      " 4   Category                3900 non-null   object \n",
      " 5   Purchase Amount (USD)   3900 non-null   int64  \n",
      " 6   Location                3900 non-null   object \n",
      " 7   Size                    3900 non-null   object \n",
      " 8   Color                   3900 non-null   object \n",
      " 9   Season                  3900 non-null   object \n",
      " 10  Review Rating           3900 non-null   float64\n",
      " 11  Subscription Status     3900 non-null   object \n",
      " 12  Shipping Type           3900 non-null   object \n",
      " 13  Discount Applied        3900 non-null   object \n",
      " 14  Promo Code Used         3900 non-null   object \n",
      " 15  Previous Purchases      3900 non-null   int64  \n",
      " 16  Payment Method          3900 non-null   object \n",
      " 17  Frequency of Purchases  3900 non-null   object \n",
      "dtypes: float64(1), int64(4), object(13)\n",
      "memory usage: 548.6+ KB\n",
      "\n",
      "--- Missing Values Check ---\n",
      "Customer ID               0\n",
      "Age                       0\n",
      "Gender                    0\n",
      "Item Purchased            0\n",
      "Category                  0\n",
      "Purchase Amount (USD)     0\n",
      "Location                  0\n",
      "Size                      0\n",
      "Color                     0\n",
      "Season                    0\n",
      "Review Rating             0\n",
      "Subscription Status       0\n",
      "Shipping Type             0\n",
      "Discount Applied          0\n",
      "Promo Code Used           0\n",
      "Previous Purchases        0\n",
      "Payment Method            0\n",
      "Frequency of Purchases    0\n",
      "dtype: int64\n"
     ]
    }
   ],
   "source": [
    "# Check data types and non-null counts\n",
    "print(\"--- Data Info ---\")\n",
    "df.info()\n",
    "\n",
    "print(\"\\n--- Missing Values Check ---\")\n",
    "print(df.isnull().sum())"
   ]
  },
  {
   "cell_type": "code",
   "execution_count": 7,
   "id": "5f2d4dbb-8096-4982-8016-ad6417ace98b",
   "metadata": {},
   "outputs": [
    {
     "data": {
      "text/markdown": [
       "\n",
       "**Observations (Shape & Missing Values):**\n",
       "\n",
       "* **Shape:** The dataset contains **3,900 rows** and **18 columns**. \n",
       "* **Missing Values:** ✅ **No missing values** found.\n",
       "* **Data Types:** *(See `df.info()` output above for details)*. A mix of numerical (`int64`, `float64`) and categorical (`object`) types are present.\n"
      ],
      "text/plain": [
       "<IPython.core.display.Markdown object>"
      ]
     },
     "metadata": {},
     "output_type": "display_data"
    }
   ],
   "source": [
    "# Extract the values\n",
    "num_rows = df.shape[0]\n",
    "num_cols = df.shape[1]\n",
    "has_missing_values = df.isnull().any().any() \n",
    "\n",
    "# Build the Markdown string\n",
    "markdown_text_shape_null = f\"\"\"\n",
    "**Observations (Shape & Missing Values):**\n",
    "\n",
    "* **Shape:** The dataset contains **{num_rows:,} rows** and **{num_cols} columns**. \n",
    "* **Missing Values:** {'✅ **No missing values** found.' if not has_missing_values else '⚠️ **Warning! Missing values detected.** Check the output above.'}\n",
    "* **Data Types:** *(See `df.info()` output above for details)*. A mix of numerical (`int64`, `float64`) and categorical (`object`) types are present.\n",
    "\"\"\"\n",
    "\n",
    "# Display the generated string as Markdown\n",
    "display(Markdown(markdown_text_shape_null))"
   ]
  },
  {
   "cell_type": "code",
   "execution_count": 8,
   "id": "b3dc6bac-a899-4972-bcbe-bd0eb51bf984",
   "metadata": {},
   "outputs": [
    {
     "name": "stdout",
     "output_type": "stream",
     "text": [
      "\n",
      "--- Numerical Summary ---\n"
     ]
    },
    {
     "data": {
      "text/html": [
       "<div>\n",
       "<style scoped>\n",
       "    .dataframe tbody tr th:only-of-type {\n",
       "        vertical-align: middle;\n",
       "    }\n",
       "\n",
       "    .dataframe tbody tr th {\n",
       "        vertical-align: top;\n",
       "    }\n",
       "\n",
       "    .dataframe thead th {\n",
       "        text-align: right;\n",
       "    }\n",
       "</style>\n",
       "<table border=\"1\" class=\"dataframe\">\n",
       "  <thead>\n",
       "    <tr style=\"text-align: right;\">\n",
       "      <th></th>\n",
       "      <th>Customer ID</th>\n",
       "      <th>Age</th>\n",
       "      <th>Purchase Amount (USD)</th>\n",
       "      <th>Review Rating</th>\n",
       "      <th>Previous Purchases</th>\n",
       "    </tr>\n",
       "  </thead>\n",
       "  <tbody>\n",
       "    <tr>\n",
       "      <th>count</th>\n",
       "      <td>3900.000000</td>\n",
       "      <td>3900.000000</td>\n",
       "      <td>3900.000000</td>\n",
       "      <td>3900.000000</td>\n",
       "      <td>3900.000000</td>\n",
       "    </tr>\n",
       "    <tr>\n",
       "      <th>mean</th>\n",
       "      <td>1950.500000</td>\n",
       "      <td>44.068462</td>\n",
       "      <td>59.764359</td>\n",
       "      <td>3.749949</td>\n",
       "      <td>25.351538</td>\n",
       "    </tr>\n",
       "    <tr>\n",
       "      <th>std</th>\n",
       "      <td>1125.977353</td>\n",
       "      <td>15.207589</td>\n",
       "      <td>23.685392</td>\n",
       "      <td>0.716223</td>\n",
       "      <td>14.447125</td>\n",
       "    </tr>\n",
       "    <tr>\n",
       "      <th>min</th>\n",
       "      <td>1.000000</td>\n",
       "      <td>18.000000</td>\n",
       "      <td>20.000000</td>\n",
       "      <td>2.500000</td>\n",
       "      <td>1.000000</td>\n",
       "    </tr>\n",
       "    <tr>\n",
       "      <th>25%</th>\n",
       "      <td>975.750000</td>\n",
       "      <td>31.000000</td>\n",
       "      <td>39.000000</td>\n",
       "      <td>3.100000</td>\n",
       "      <td>13.000000</td>\n",
       "    </tr>\n",
       "    <tr>\n",
       "      <th>50%</th>\n",
       "      <td>1950.500000</td>\n",
       "      <td>44.000000</td>\n",
       "      <td>60.000000</td>\n",
       "      <td>3.700000</td>\n",
       "      <td>25.000000</td>\n",
       "    </tr>\n",
       "    <tr>\n",
       "      <th>75%</th>\n",
       "      <td>2925.250000</td>\n",
       "      <td>57.000000</td>\n",
       "      <td>81.000000</td>\n",
       "      <td>4.400000</td>\n",
       "      <td>38.000000</td>\n",
       "    </tr>\n",
       "    <tr>\n",
       "      <th>max</th>\n",
       "      <td>3900.000000</td>\n",
       "      <td>70.000000</td>\n",
       "      <td>100.000000</td>\n",
       "      <td>5.000000</td>\n",
       "      <td>50.000000</td>\n",
       "    </tr>\n",
       "  </tbody>\n",
       "</table>\n",
       "</div>"
      ],
      "text/plain": [
       "       Customer ID          Age  Purchase Amount (USD)  Review Rating  \\\n",
       "count  3900.000000  3900.000000            3900.000000    3900.000000   \n",
       "mean   1950.500000    44.068462              59.764359       3.749949   \n",
       "std    1125.977353    15.207589              23.685392       0.716223   \n",
       "min       1.000000    18.000000              20.000000       2.500000   \n",
       "25%     975.750000    31.000000              39.000000       3.100000   \n",
       "50%    1950.500000    44.000000              60.000000       3.700000   \n",
       "75%    2925.250000    57.000000              81.000000       4.400000   \n",
       "max    3900.000000    70.000000             100.000000       5.000000   \n",
       "\n",
       "       Previous Purchases  \n",
       "count         3900.000000  \n",
       "mean            25.351538  \n",
       "std             14.447125  \n",
       "min              1.000000  \n",
       "25%             13.000000  \n",
       "50%             25.000000  \n",
       "75%             38.000000  \n",
       "max             50.000000  "
      ]
     },
     "metadata": {},
     "output_type": "display_data"
    }
   ],
   "source": [
    "# Get summary statistics for numerical columns\n",
    "print(\"\\n--- Numerical Summary ---\")\n",
    "display(df.describe())"
   ]
  },
  {
   "cell_type": "markdown",
   "id": "daaad8d3-dd32-486d-8480-0ee766360fb2",
   "metadata": {},
   "source": [
    "**Insights from Numerical Summary:**\n",
    "\n",
    "* **Age:** Ranges from **18** to **70**, with a mean and median both around **44**, suggesting a fairly symmetrical age distribution.\n",
    "* **Purchase Amount (USD):** Varies from **\\$20** to **\\$100**, averaging about **\\$59.76**. The median is **\\$60**, very close to the mean, indicating low skewness in spending.\n",
    "* **Review Rating:** Ranges from **2.5** to **5.0**, with a mean of **3.75**. The distribution seems slightly left-skewed (more higher ratings), as the mean is close to the median (3.7).\n",
    "* **Previous Purchases:** Customers have made between **1** and **50** previous purchases, with both the mean and median around **25**, suggesting a relatively uniform distribution here."
   ]
  },
  {
   "cell_type": "code",
   "execution_count": 9,
   "id": "4c01d240-83f6-4654-b020-0ddbd100b891",
   "metadata": {},
   "outputs": [
    {
     "name": "stdout",
     "output_type": "stream",
     "text": [
      "\n",
      "--- Categorical Summary ---\n"
     ]
    },
    {
     "data": {
      "text/html": [
       "<div>\n",
       "<style scoped>\n",
       "    .dataframe tbody tr th:only-of-type {\n",
       "        vertical-align: middle;\n",
       "    }\n",
       "\n",
       "    .dataframe tbody tr th {\n",
       "        vertical-align: top;\n",
       "    }\n",
       "\n",
       "    .dataframe thead th {\n",
       "        text-align: right;\n",
       "    }\n",
       "</style>\n",
       "<table border=\"1\" class=\"dataframe\">\n",
       "  <thead>\n",
       "    <tr style=\"text-align: right;\">\n",
       "      <th></th>\n",
       "      <th>Gender</th>\n",
       "      <th>Item Purchased</th>\n",
       "      <th>Category</th>\n",
       "      <th>Location</th>\n",
       "      <th>Size</th>\n",
       "      <th>Color</th>\n",
       "      <th>Season</th>\n",
       "      <th>Subscription Status</th>\n",
       "      <th>Shipping Type</th>\n",
       "      <th>Discount Applied</th>\n",
       "      <th>Promo Code Used</th>\n",
       "      <th>Payment Method</th>\n",
       "      <th>Frequency of Purchases</th>\n",
       "    </tr>\n",
       "  </thead>\n",
       "  <tbody>\n",
       "    <tr>\n",
       "      <th>count</th>\n",
       "      <td>3900</td>\n",
       "      <td>3900</td>\n",
       "      <td>3900</td>\n",
       "      <td>3900</td>\n",
       "      <td>3900</td>\n",
       "      <td>3900</td>\n",
       "      <td>3900</td>\n",
       "      <td>3900</td>\n",
       "      <td>3900</td>\n",
       "      <td>3900</td>\n",
       "      <td>3900</td>\n",
       "      <td>3900</td>\n",
       "      <td>3900</td>\n",
       "    </tr>\n",
       "    <tr>\n",
       "      <th>unique</th>\n",
       "      <td>2</td>\n",
       "      <td>25</td>\n",
       "      <td>4</td>\n",
       "      <td>50</td>\n",
       "      <td>4</td>\n",
       "      <td>25</td>\n",
       "      <td>4</td>\n",
       "      <td>2</td>\n",
       "      <td>6</td>\n",
       "      <td>2</td>\n",
       "      <td>2</td>\n",
       "      <td>6</td>\n",
       "      <td>7</td>\n",
       "    </tr>\n",
       "    <tr>\n",
       "      <th>top</th>\n",
       "      <td>Male</td>\n",
       "      <td>Blouse</td>\n",
       "      <td>Clothing</td>\n",
       "      <td>Montana</td>\n",
       "      <td>M</td>\n",
       "      <td>Olive</td>\n",
       "      <td>Spring</td>\n",
       "      <td>No</td>\n",
       "      <td>Free Shipping</td>\n",
       "      <td>No</td>\n",
       "      <td>No</td>\n",
       "      <td>PayPal</td>\n",
       "      <td>Every 3 Months</td>\n",
       "    </tr>\n",
       "    <tr>\n",
       "      <th>freq</th>\n",
       "      <td>2652</td>\n",
       "      <td>171</td>\n",
       "      <td>1737</td>\n",
       "      <td>96</td>\n",
       "      <td>1755</td>\n",
       "      <td>177</td>\n",
       "      <td>999</td>\n",
       "      <td>2847</td>\n",
       "      <td>675</td>\n",
       "      <td>2223</td>\n",
       "      <td>2223</td>\n",
       "      <td>677</td>\n",
       "      <td>584</td>\n",
       "    </tr>\n",
       "  </tbody>\n",
       "</table>\n",
       "</div>"
      ],
      "text/plain": [
       "       Gender Item Purchased  Category Location  Size  Color  Season  \\\n",
       "count    3900           3900      3900     3900  3900   3900    3900   \n",
       "unique      2             25         4       50     4     25       4   \n",
       "top      Male         Blouse  Clothing  Montana     M  Olive  Spring   \n",
       "freq     2652            171      1737       96  1755    177     999   \n",
       "\n",
       "       Subscription Status  Shipping Type Discount Applied Promo Code Used  \\\n",
       "count                 3900           3900             3900            3900   \n",
       "unique                   2              6                2               2   \n",
       "top                     No  Free Shipping               No              No   \n",
       "freq                  2847            675             2223            2223   \n",
       "\n",
       "       Payment Method Frequency of Purchases  \n",
       "count            3900                   3900  \n",
       "unique              6                      7  \n",
       "top            PayPal         Every 3 Months  \n",
       "freq              677                    584  "
      ]
     },
     "metadata": {},
     "output_type": "display_data"
    }
   ],
   "source": [
    "print(\"\\n--- Categorical Summary ---\")\n",
    "display(df.describe(include='object'))"
   ]
  },
  {
   "cell_type": "markdown",
   "id": "e8cb3f2c-c480-47fc-a922-238750a72402",
   "metadata": {},
   "source": [
    "**Insights from Categorical Summary:**\n",
    "\n",
    "* **Gender:** The dataset is predominantly **Male** (2652 out of 3900).\n",
    "* **Most Frequent Items:** **Blouse** is the most purchased item (171 times), within the most frequent **Clothing** category (1737 times). There are 25 unique items listed.\n",
    "* **Location:** **Montana** is the top location (96 times) out of 50 unique locations.\n",
    "* **Size:** **M** (Medium) is the most common size (1755 times).\n",
    "* **Color:** **Olive** is the most frequent color (177 times) out of 25 unique colors.\n",
    "* **Season:** Most purchases occur in **Spring** (999 times).\n",
    "* **Subscription:** Most customers do **not** have a subscription (**No**: 2847 times).\n",
    "* **Shipping:** **Free Shipping** is the most common type (675 times).\n",
    "* **Discounts/Promos:** Most purchases were made **without** a discount or promo code applied (**No**: 2223 times for both).\n",
    "* **Payment:** **PayPal** is the most popular payment method (677 times).\n",
    "* **Purchase Frequency:** The most common frequency is **Every 3 Months** (584 times)."
   ]
  },
  {
   "cell_type": "markdown",
   "id": "446684b3-7cc8-4613-a0ca-36e00bd70ff3",
   "metadata": {},
   "source": [
    "### 6. Data Cleaning: Standardize Column Names\n",
    "\n",
    "The current column names contain spaces, parentheses, and mixed casing (e.g., `Purchase Amount (USD)`). This makes them slightly awkward to use in code (requiring bracket notation like `df['Purchase Amount (USD)']` instead of dot notation like `df.purchase_amount_usd`).\n",
    "\n",
    "As a standard data cleaning practice, we will convert all column names to **snake_case**. This involves:\n",
    "1.  Converting all characters to lowercase.\n",
    "2.  Replacing spaces and special characters (like parentheses) with underscores (`_`).\n",
    "3.  Removing any trailing underscores.\n",
    "\n",
    "This consistent format makes the code cleaner and easier to write."
   ]
  },
  {
   "cell_type": "code",
   "execution_count": 10,
   "id": "6889ae35-55f0-4c0e-8471-9e0d73aed619",
   "metadata": {},
   "outputs": [
    {
     "name": "stdout",
     "output_type": "stream",
     "text": [
      "Original Columns:\n",
      " Index(['Customer ID', 'Age', 'Gender', 'Item Purchased', 'Category',\n",
      "       'Purchase Amount (USD)', 'Location', 'Size', 'Color', 'Season',\n",
      "       'Review Rating', 'Subscription Status', 'Shipping Type',\n",
      "       'Discount Applied', 'Promo Code Used', 'Previous Purchases',\n",
      "       'Payment Method', 'Frequency of Purchases'],\n",
      "      dtype='object')\n",
      "\n",
      "Cleaned Columns:\n",
      " Index(['customer_id', 'age', 'gender', 'item_purchased', 'category',\n",
      "       'purchase_amount_usd', 'location', 'size', 'color', 'season',\n",
      "       'review_rating', 'subscription_status', 'shipping_type',\n",
      "       'discount_applied', 'promo_code_used', 'previous_purchases',\n",
      "       'payment_method', 'frequency_of_purchases'],\n",
      "      dtype='object')\n",
      "\n",
      "--- DataFrame with Cleaned Columns ---\n"
     ]
    },
    {
     "data": {
      "text/html": [
       "<div>\n",
       "<style scoped>\n",
       "    .dataframe tbody tr th:only-of-type {\n",
       "        vertical-align: middle;\n",
       "    }\n",
       "\n",
       "    .dataframe tbody tr th {\n",
       "        vertical-align: top;\n",
       "    }\n",
       "\n",
       "    .dataframe thead th {\n",
       "        text-align: right;\n",
       "    }\n",
       "</style>\n",
       "<table border=\"1\" class=\"dataframe\">\n",
       "  <thead>\n",
       "    <tr style=\"text-align: right;\">\n",
       "      <th></th>\n",
       "      <th>customer_id</th>\n",
       "      <th>age</th>\n",
       "      <th>gender</th>\n",
       "      <th>item_purchased</th>\n",
       "      <th>category</th>\n",
       "      <th>purchase_amount_usd</th>\n",
       "      <th>location</th>\n",
       "      <th>size</th>\n",
       "      <th>color</th>\n",
       "      <th>season</th>\n",
       "      <th>review_rating</th>\n",
       "      <th>subscription_status</th>\n",
       "      <th>shipping_type</th>\n",
       "      <th>discount_applied</th>\n",
       "      <th>promo_code_used</th>\n",
       "      <th>previous_purchases</th>\n",
       "      <th>payment_method</th>\n",
       "      <th>frequency_of_purchases</th>\n",
       "    </tr>\n",
       "  </thead>\n",
       "  <tbody>\n",
       "    <tr>\n",
       "      <th>0</th>\n",
       "      <td>1</td>\n",
       "      <td>55</td>\n",
       "      <td>Male</td>\n",
       "      <td>Blouse</td>\n",
       "      <td>Clothing</td>\n",
       "      <td>53</td>\n",
       "      <td>Kentucky</td>\n",
       "      <td>L</td>\n",
       "      <td>Gray</td>\n",
       "      <td>Winter</td>\n",
       "      <td>3.1</td>\n",
       "      <td>Yes</td>\n",
       "      <td>Express</td>\n",
       "      <td>Yes</td>\n",
       "      <td>Yes</td>\n",
       "      <td>14</td>\n",
       "      <td>Venmo</td>\n",
       "      <td>Fortnightly</td>\n",
       "    </tr>\n",
       "  </tbody>\n",
       "</table>\n",
       "</div>"
      ],
      "text/plain": [
       "   customer_id  age gender item_purchased  category  purchase_amount_usd  \\\n",
       "0            1   55   Male         Blouse  Clothing                   53   \n",
       "\n",
       "   location size color  season  review_rating subscription_status  \\\n",
       "0  Kentucky    L  Gray  Winter            3.1                 Yes   \n",
       "\n",
       "  shipping_type discount_applied promo_code_used  previous_purchases  \\\n",
       "0       Express              Yes             Yes                  14   \n",
       "\n",
       "  payment_method frequency_of_purchases  \n",
       "0          Venmo            Fortnightly  "
      ]
     },
     "metadata": {},
     "output_type": "display_data"
    }
   ],
   "source": [
    "# --- Standardize Column Names ---\n",
    "\n",
    "# 1. Get the current list of column names\n",
    "original_columns = df.columns\n",
    "print(\"Original Columns:\\n\", original_columns)\n",
    "\n",
    "# 2. Create a new list to store the cleaned names\n",
    "new_columns = []\n",
    "\n",
    "# 3. Iterate through each original column name\n",
    "for col in original_columns:\n",
    "    # a. Convert the entire string to lowercase\n",
    "    clean_col = col.lower()\n",
    "    # b. Replace spaces with underscores\n",
    "    clean_col = clean_col.replace(' ', '_')\n",
    "    # c. Replace '(' with an underscore\n",
    "    clean_col = clean_col.replace('(', '_')\n",
    "    # d. Replace ')' with an empty string (remove it)\n",
    "    clean_col = clean_col.replace(')', '')\n",
    "    # e. Remove any potential double underscores resulting from replacements\n",
    "    clean_col = clean_col.replace('__', '_')\n",
    "    # f. Remove any underscore that might be left at the very end\n",
    "    clean_col = clean_col.strip('_')\n",
    "    # g. Add the cleaned name to our new list\n",
    "    new_columns.append(clean_col)\n",
    "\n",
    "# 4. Assign the new list of names back to the DataFrame's columns attribute\n",
    "df.columns = new_columns\n",
    "\n",
    "# 5. Verify the changes by displaying the first row with new column names\n",
    "print(\"\\nCleaned Columns:\\n\", df.columns)\n",
    "print(\"\\n--- DataFrame with Cleaned Columns ---\")\n",
    "display(df.head(1))"
   ]
  },
  {
   "cell_type": "markdown",
   "id": "dc2cdd7a-4427-4987-bca5-eee4765807a6",
   "metadata": {},
   "source": [
    "### 7. Univariate Analysis: Numerical Variables\n",
    "\n",
    "Explore the distribution of key numerical features like age, purchase amount, review rating, and previous purchases."
   ]
  },
  {
   "cell_type": "code",
   "execution_count": 21,
   "id": "2b105498-9140-497a-907b-4bbba12dde3c",
   "metadata": {},
   "outputs": [
    {
     "data": {
      "image/png": "[encoded data removed]",
      "text/plain": [
       "<Figure size 1000x600 with 1 Axes>"
      ]
     },
     "metadata": {},
     "output_type": "display_data"
    }
   ],
   "source": [
    "# Explore the distribution of customer ages\n",
    "sns.histplot(data=df, x='age', bins=25, kde=True)\n",
    "plt.title('Distribution of Customer Ages')\n",
    "plt.xlabel('Age')\n",
    "plt.ylabel('Frequency')\n",
    "plt.show()"
   ]
  },
  {
   "cell_type": "markdown",
   "id": "7374268d-db35-45ea-953c-56d24241fa3e",
   "metadata": {},
   "source": [
    "Next, let's examine the distribution of purchase amounts. This will show us the typical spending range per transaction and identify if spending is concentrated around certain values."
   ]
  },
  {
   "cell_type": "code",
   "execution_count": 24,
   "id": "8cba2399-50c0-40fe-ada1-be8fa7125512",
   "metadata": {},
   "outputs": [
    {
     "data": {
      "image/png": "[encoded data removed]",
      "text/plain": [
       "<Figure size 1000x600 with 1 Axes>"
      ]
     },
     "metadata": {},
     "output_type": "display_data"
    },
    {
     "name": "stdout",
     "output_type": "stream",
     "text": [
      "Plot saved to: /home/prof-adept/Shared/Alpha/Programming/Python/Data Science Projects/ecommerce-analysis/figures/purchase_amount_distribution.png\n"
     ]
    }
   ],
   "source": [
    "# --- Univariate Analysis: Purchase Amount ---\n",
    "\n",
    "# Create a histogram for the 'purchase_amount_usd' column\n",
    "# Using kde=True adds a smooth line estimating the distribution\n",
    "sns.histplot(data=df, x='purchase_amount_usd', bins=20, kde=True) \n",
    "plt.title('Distribution of Purchase Amounts (USD)')\n",
    "plt.xlabel('Purchase Amount (USD)')\n",
    "plt.ylabel('Frequency')\n",
    "\n",
    "# Define the save path for this plot\n",
    "save_path_amount = figures_dir / 'purchase_amount_distribution.png'\n",
    "\n",
    "# Save the figure before showing it\n",
    "plt.savefig(save_path_amount, dpi=300, bbox_inches='tight')\n",
    "\n",
    "# Show the plot\n",
    "plt.show()\n",
    "\n",
    "print(f\"Plot saved to: {save_path_amount}\")"
   ]
  },
  {
   "cell_type": "markdown",
   "id": "71e08d8b-3038-492a-b236-19c26722b395",
   "metadata": {},
   "source": [
    "Let's analyze the distribution of review ratings. This tells us about overall customer satisfaction. Are ratings typically high, low, or spread out?"
   ]
  },
  {
   "cell_type": "code",
   "execution_count": 27,
   "id": "3c80312b-b710-49ee-bac2-44e35f751f16",
   "metadata": {},
   "outputs": [
    {
     "data": {
      "image/png": "[encoded data removed]",
      "text/plain": [
       "<Figure size 1000x600 with 1 Axes>"
      ]
     },
     "metadata": {},
     "output_type": "display_data"
    },
    {
     "name": "stdout",
     "output_type": "stream",
     "text": [
      "Plot saved to: /home/prof-adept/Shared/Alpha/Programming/Python/Data Science Projects/ecommerce-analysis/figures/review_rating_distribution.png\n"
     ]
    }
   ],
   "source": [
    "# --- Univariate Analysis: Review Rating ---\n",
    "\n",
    "# Create a histogram for the 'review_rating' column\n",
    "# We can use discrete bins or let histplot choose appropriate ones.\n",
    "# kde=False might be clearer here as ratings aren't perfectly continuous.\n",
    "# sns.histplot(data=df, x='review_rating', kde=False, bins=10) # Using fewer bins might group similar ratings\n",
    "\n",
    "\n",
    "# Alternative: A countplot might be better for discrete-like values\n",
    "sns.countplot(data=df, x='review_rating') #, palette='viridis') \n",
    "plt.title('Distribution of Review Ratings')\n",
    "plt.xlabel('Review Rating')\n",
    "plt.ylabel('Frequency')\n",
    "\n",
    "# Define the save path\n",
    "save_path_rating = figures_dir / 'review_rating_distribution.png'\n",
    "\n",
    "# Save the figure\n",
    "plt.savefig(save_path_rating, dpi=300, bbox_inches='tight')\n",
    "\n",
    "# Show the plot\n",
    "plt.show()\n",
    "\n",
    "print(f\"Plot saved to: {save_path_rating}\")"
   ]
  },
  {
   "cell_type": "markdown",
   "id": "f3902739-c23c-4b70-a40f-21feb1d5e161",
   "metadata": {},
   "source": [
    "Finally, let's look at the distribution of `previous_purchases`. This helps us understand customer loyalty or tenure. Do we have mostly new customers, mostly returning customers, or a mix?"
   ]
  },
  {
   "cell_type": "code",
   "execution_count": 28,
   "id": "04b2f2d7-0379-4c5e-881e-8f9bacb7ef67",
   "metadata": {},
   "outputs": [
    {
     "data": {
      "image/png": "[encoded data removed]",
      "text/plain": [
       "<Figure size 1000x600 with 1 Axes>"
      ]
     },
     "metadata": {},
     "output_type": "display_data"
    },
    {
     "name": "stdout",
     "output_type": "stream",
     "text": [
      "Plot saved to: /home/prof-adept/Shared/Alpha/Programming/Python/Data Science Projects/ecommerce-analysis/figures/previous_purchases_distribution.png\n"
     ]
    }
   ],
   "source": [
    "# --- Univariate Analysis: Previous Purchases ---\n",
    "\n",
    "# Create a histogram for the 'previous_purchases' column\n",
    "sns.histplot(data=df, x='previous_purchases', bins=25, kde=True) # Using 25 bins for a range of 1-50\n",
    "\n",
    "plt.title('Distribution of Previous Purchases')\n",
    "plt.xlabel('Number of Previous Purchases')\n",
    "plt.ylabel('Frequency')\n",
    "\n",
    "# Define the save path\n",
    "save_path_prev_purchases = figures_dir / 'previous_purchases_distribution.png'\n",
    "\n",
    "# Save the figure\n",
    "plt.savefig(save_path_prev_purchases, dpi=300, bbox_inches='tight')\n",
    "\n",
    "# Show the plot\n",
    "plt.show()\n",
    "\n",
    "print(f\"Plot saved to: {save_path_prev_purchases}\")"
   ]
  },
  {
   "cell_type": "markdown",
   "id": "e5a1cc06-6a14-48c0-b200-e1ab822a13e2",
   "metadata": {},
   "source": [
    "To specifically demonstrate Matplotlib's capabilities, let's create a pie chart showing the proportion of customers based on their `subscription_status`. Pie charts are effective for visualizing parts of a whole for a single categorical variable with few categories."
   ]
  },
  {
   "cell_type": "code",
   "execution_count": null,
   "id": "9859c3d7-9f4c-45d0-8995-f9534fa8b3a9",
   "metadata": {},
   "outputs": [],
   "source": []
  }
 ],
 "metadata": {
  "kernelspec": {
   "display_name": "Python 3 (ipykernel)",
   "language": "python",
   "name": "python3"
  },
  "language_info": {
   "codemirror_mode": {
    "name": "ipython",
    "version": 3
   },
   "file_extension": ".py",
   "mimetype": "text/x-python",
   "name": "python",
   "nbconvert_exporter": "python",
   "pygments_lexer": "ipython3",
   "version": "3.10.18"
  }
 },
 "nbformat": 4,
 "nbformat_minor": 5
}
