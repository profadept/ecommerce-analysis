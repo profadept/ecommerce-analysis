{
 "cells": [
  {
   "cell_type": "markdown",
   "id": "fd18947d-5770-4dad-a83d-e99abf904c9b",
   "metadata": {},
   "source": [
    "# E-commerce Shopping Behavior Analysis\n",
    "\n",
    "**Goal:** Practice Pandas data manipulation and Seaborn/Matplotlib visualization to understand customer habits."
   ]
  },
  {
   "cell_type": "markdown",
   "id": "546c6f4b-e122-4fb9-be65-3f27d2349888",
   "metadata": {},
   "source": [
    "#### Step 1: Import Libraries and Modules needed for Analysis and Visualization"
   ]
  },
  {
   "cell_type": "code",
   "execution_count": 1,
   "id": "9ce0a6e9-5170-499b-86fc-6cf5f884690e",
   "metadata": {},
   "outputs": [],
   "source": [
    "import pandas as pd\n",
    "import numpy as np\n",
    "import seaborn as sns\n",
    "import plotly as plt"
   ]
  },
  {
   "cell_type": "code",
   "execution_count": null,
   "id": "327203cb-1b46-45f5-b234-5906b8d5d518",
   "metadata": {},
   "outputs": [],
   "source": []
  }
 ],
 "metadata": {
  "kernelspec": {
   "display_name": "Python 3 (ipykernel)",
   "language": "python",
   "name": "python3"
  },
  "language_info": {
   "codemirror_mode": {
    "name": "ipython",
    "version": 3
   },
   "file_extension": ".py",
   "mimetype": "text/x-python",
   "name": "python",
   "nbconvert_exporter": "python",
   "pygments_lexer": "ipython3",
   "version": "3.10.18"
  }
 },
 "nbformat": 4,
 "nbformat_minor": 5
}
